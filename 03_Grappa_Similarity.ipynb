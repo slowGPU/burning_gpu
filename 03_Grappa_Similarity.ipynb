{
 "cells": [
  {
   "cell_type": "code",
   "execution_count": 7,
   "metadata": {},
   "outputs": [],
   "source": [
    "import torch\n",
    "import numpy as np\n",
    "\n",
    "from common.utils import save_reconstructions\n",
    "from pathlib import Path\n",
    "from collections import defaultdict\n",
    "import fastmri\n",
    "import h5py\n",
    "import os"
   ]
  },
  {
   "cell_type": "code",
   "execution_count": 17,
   "metadata": {},
   "outputs": [],
   "source": [
    "PUBLIC_ACCS = [\"acc4\", \"acc5\", \"acc8\"]\n",
    "root_path = \"/home/Data/leaderboard\"\n",
    "out_path = \"reconstructions/grappa\""
   ]
  },
  {
   "cell_type": "code",
   "execution_count": 11,
   "metadata": {},
   "outputs": [
    {
     "data": {
      "text/plain": [
       "['acc5', 'acc9']"
      ]
     },
     "execution_count": 11,
     "metadata": {},
     "output_type": "execute_result"
    }
   ],
   "source": [
    "os.listdir(root_path)"
   ]
  },
  {
   "cell_type": "code",
   "execution_count": null,
   "metadata": {},
   "outputs": [],
   "source": [
    "from dataset import SliceDataModule\n",
    "import tqdm\n",
    "dm = SliceDataModule(root=\"/home/Data\")\n",
    "dm.setup(\"test\")\n",
    "dm.setup(\"predict\")\n",
    "for (mask, kspace, target, maximum, fnames, slices) in tqdm.tqdm(dm.test_dataloader()):\n",
    "    print(fnames, slices)\n",
    "    print(type(slices))"
   ]
  },
  {
   "cell_type": "code",
   "execution_count": 18,
   "metadata": {},
   "outputs": [],
   "source": [
    "for acc in os.listdir(root_path):\n",
    "    reconstructions = defaultdict(dict)\n",
    "    file_list = os.listdir(f\"{root_path}/{acc}/image\")\n",
    "    for file in file_list:\n",
    "        grappa = h5py.File(f\"{root_path}/{acc}/image/{file}\", \"r\")[\"image_grappa\"]\n",
    "        for i in range(grappa.shape[0]):\n",
    "            reconstructions[file][i] = np.array(grappa[i])\n",
    "    for fname in reconstructions:\n",
    "        reconstructions[fname] = np.stack([reconstructions[fname][slice] for slice in sorted(reconstructions[fname])])\n",
    "\n",
    "    if acc in PUBLIC_ACCS:\n",
    "        save_reconstructions(reconstructions, Path(f\"{out_path}/public\"))\n",
    "\n",
    "    else:\n",
    "        save_reconstructions(reconstructions, Path(f\"{out_path}/private\"))"
   ]
  },
  {
   "cell_type": "code",
   "execution_count": null,
   "metadata": {},
   "outputs": [],
   "source": []
  }
 ],
 "metadata": {
  "kernelspec": {
   "display_name": "Python 3",
   "language": "python",
   "name": "python3"
  },
  "language_info": {
   "codemirror_mode": {
    "name": "ipython",
    "version": 3
   },
   "file_extension": ".py",
   "mimetype": "text/x-python",
   "name": "python",
   "nbconvert_exporter": "python",
   "pygments_lexer": "ipython3",
   "version": "3.8.10"
  }
 },
 "nbformat": 4,
 "nbformat_minor": 2
}
