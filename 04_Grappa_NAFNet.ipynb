{
 "cells": [
  {
   "cell_type": "code",
   "execution_count": 6,
   "metadata": {},
   "outputs": [],
   "source": [
    "from models.external.NAFNet.NAFNet_arch import NAFNet\n",
    "import torch\n",
    "import numpy as np\n",
    "\n",
    "from common.utils import save_reconstructions\n",
    "from pathlib import Path\n",
    "from collections import defaultdict\n",
    "import fastmri\n",
    "import h5py\n",
    "import os\n",
    "from torch.utils.data import DataLoader, Dataset\n",
    "from typing import Optional, Tuple, List\n",
    "\n",
    "PUBLIC_ACCS = [\"acc4\", \"acc5\", \"acc8\"]\n",
    "root_path = \"/home/Data/leaderboard\"\n",
    "out_path = \"reconstructions/grappa\""
   ]
  },
  {
   "cell_type": "code",
   "execution_count": null,
   "metadata": {},
   "outputs": [],
   "source": [
    "for acc in os.listdir(root_path):\n",
    "    reconstructions = defaultdict(dict)\n",
    "    file_list = os.listdir(f\"{root_path}/{acc}/image\")\n",
    "    for file in file_list:\n",
    "        grappa = h5py.File(f\"{root_path}/{acc}/image/{file}\", \"r\")[\"image_grappa\"]\n",
    "        for i in range(grappa.shape[0]):\n",
    "            reconstructions[file][i] = np.array(grappa[i])\n",
    "    for fname in reconstructions:\n",
    "        reconstructions[fname] = np.stack([reconstructions[fname][slice] for slice in sorted(reconstructions[fname])])\n",
    "\n",
    "    if acc in PUBLIC_ACCS:\n",
    "        save_reconstructions(reconstructions, Path(f\"{out_path}/public\"))\n",
    "\n",
    "    else:\n",
    "        save_reconstructions(reconstructions, Path(f\"{out_path}/private\"))"
   ]
  },
  {
   "cell_type": "code",
   "execution_count": 7,
   "metadata": {},
   "outputs": [
    {
     "ename": "NameError",
     "evalue": "name 'file' is not defined",
     "output_type": "error",
     "traceback": [
      "\u001b[0;31m---------------------------------------------------------------------------\u001b[0m",
      "\u001b[0;31mNameError\u001b[0m                                 Traceback (most recent call last)",
      "Cell \u001b[0;32mIn[7], line 9\u001b[0m\n\u001b[1;32m      6\u001b[0m grappa_dataloaders \u001b[38;5;241m=\u001b[39m {}\n\u001b[1;32m      7\u001b[0m \u001b[38;5;28;01mfor\u001b[39;00m acc \u001b[38;5;129;01min\u001b[39;00m os\u001b[38;5;241m.\u001b[39mlistdir(root_path):\n\u001b[0;32m----> 9\u001b[0m     grappa_raw_data \u001b[38;5;241m=\u001b[39m h5py\u001b[38;5;241m.\u001b[39mFile(\u001b[38;5;124mf\u001b[39m\u001b[38;5;124m\"\u001b[39m\u001b[38;5;132;01m{\u001b[39;00mroot_path\u001b[38;5;132;01m}\u001b[39;00m\u001b[38;5;124m/\u001b[39m\u001b[38;5;132;01m{\u001b[39;00macc\u001b[38;5;132;01m}\u001b[39;00m\u001b[38;5;124m/image/\u001b[39m\u001b[38;5;132;01m{\u001b[39;00mfile\u001b[38;5;132;01m}\u001b[39;00m\u001b[38;5;124m\"\u001b[39m, \u001b[38;5;124m\"\u001b[39m\u001b[38;5;124mr\u001b[39m\u001b[38;5;124m\"\u001b[39m)[\u001b[38;5;124m\"\u001b[39m\u001b[38;5;124mimage_grappa\u001b[39m\u001b[38;5;124m\"\u001b[39m]\n\u001b[1;32m     10\u001b[0m     grappa_data \u001b[38;5;241m=\u001b[39m torch\u001b[38;5;241m.\u001b[39mtensor(grappa_raw_data)\n",
      "\u001b[0;31mNameError\u001b[0m: name 'file' is not defined"
     ]
    }
   ],
   "source": [
    "Grappa_DataType = Tuple[\n",
    "    torch.Tensor, # Grappa Image\n",
    "    Optional[torch.Tensor], # Ground Truth Image (target)\n",
    "]\n",
    "\n",
    "class GrappaDataset(Dataset):\n",
    "    def __init__(self, root_path: str, acc_list: List[str]) -> None:\n",
    "        self.root_path = root_path\n",
    "        for acc in acc_list:\n",
    "            self.file_list = os.listdir(f\"{root_path}/{acc}/image\")\n",
    "            self.grappa_data = {}\n",
    "            for file in self.file_list:\n",
    "                grappa = h5py.File(f\"{root_path}/{acc}/image/{file}\", \"r\")[\"image_grappa\"]\n",
    "                for i in range(grappa.shape[0]):\n",
    "                    self.grappa_data[file][i] = torch.tensor(grappa[i])\n",
    "        self.file_list = os.listdir(f\"{root_path}/{acc}/image\")\n",
    "        self.grappa_data = {}\n",
    "        for file in self.file_list:\n",
    "            grappa = h5py.File(f\"{root_path}/{acc}/image/{file}\", \"r\")[\"image_grappa\"]\n",
    "            for i in range(grappa.shape[0]):\n",
    "                self.grappa_data[file][i] = torch.tensor(grappa[i])\n",
    "\n",
    "    def __len__(self) -> int:\n",
    "        return len(self.file_list)\n",
    "\n",
    "    def __getitem__(self, idx: int) -> Grappa_DataType:\n",
    "        return self.grappa_data[self.file_list[idx]]\n",
    "\n",
    "grappa_dataloaders = {}\n",
    "for acc in os.listdir(root_path):\n",
    "    grappa_dataset = GrappaDataset(root_path, acc)\n",
    "    grappa_raw_data = h5py.File(f\"{root_path}/{acc}/image/{file}\", \"r\")[\"image_grappa\"]\n",
    "    grappa_data = torch.tensor(grappa_raw_data)"
   ]
  },
  {
   "cell_type": "code",
   "execution_count": null,
   "metadata": {},
   "outputs": [],
   "source": [
    "model = NAFNet(\n",
    "    \n",
    ")"
   ]
  }
 ],
 "metadata": {
  "kernelspec": {
   "display_name": "Python 3",
   "language": "python",
   "name": "python3"
  },
  "language_info": {
   "codemirror_mode": {
    "name": "ipython",
    "version": 3
   },
   "file_extension": ".py",
   "mimetype": "text/x-python",
   "name": "python",
   "nbconvert_exporter": "python",
   "pygments_lexer": "ipython3",
   "version": "3.8.10"
  }
 },
 "nbformat": 4,
 "nbformat_minor": 2
}
