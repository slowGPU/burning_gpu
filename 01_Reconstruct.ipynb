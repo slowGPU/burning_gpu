{
 "cells": [
  {
   "cell_type": "code",
   "execution_count": 16,
   "metadata": {},
   "outputs": [],
   "source": [
    "%load_ext autoreload"
   ]
  },
  {
   "cell_type": "code",
   "execution_count": 24,
   "metadata": {},
   "outputs": [],
   "source": [
    "%autoreload 2\n",
    "\n",
    "import torch\n",
    "import numpy as np\n",
    "\n",
    "from dataset import SliceDataModule\n",
    "from common.utils import save_reconstructions\n",
    "from collections import defaultdict\n",
    "from tqdm import tqdm\n",
    "from pathlib import Path"
   ]
  },
  {
   "cell_type": "code",
   "execution_count": 25,
   "metadata": {},
   "outputs": [],
   "source": [
    "HASH = \"aa496a972dd241689c3c0aeb071b759e\"\n",
    "SAVE_DIR = f\"reconstructions/{HASH}\""
   ]
  },
  {
   "cell_type": "code",
   "execution_count": 26,
   "metadata": {},
   "outputs": [],
   "source": [
    "from models import VarNetRoughSensOL\n",
    "\n",
    "checkpoint = torch.load(f\"mlruns/0/{HASH}/artifacts/checkpoints/latest_checkpoint.pth\")\n",
    "model = VarNetRoughSensOL(**checkpoint[\"hyper_parameters\"][\"init_args\"])\n",
    "model.load_state_dict(torch.load(f\"mlruns/0/{HASH}/artifacts/checkpoints/latest_checkpoint.pth\")[\"state_dict\"])\n",
    "model = model.cuda()"
   ]
  },
  {
   "cell_type": "code",
   "execution_count": 27,
   "metadata": {},
   "outputs": [],
   "source": [
    "dm = SliceDataModule(root=\"/home/Data\")\n",
    "dm.setup(\"test\")\n",
    "dm.setup(\"predict\")"
   ]
  },
  {
   "cell_type": "code",
   "execution_count": 28,
   "metadata": {},
   "outputs": [
    {
     "name": "stdout",
     "output_type": "stream",
     "text": [
      "Reconstructing public leaderboard...\n"
     ]
    },
    {
     "name": "stderr",
     "output_type": "stream",
     "text": [
      "100%|██████████| 984/984 [04:47<00:00,  3.42it/s]\n"
     ]
    },
    {
     "name": "stdout",
     "output_type": "stream",
     "text": [
      "Saving reconstructions of public leaderboard...\n",
      "Reconstructing private leaderboard...\n"
     ]
    },
    {
     "name": "stderr",
     "output_type": "stream",
     "text": [
      "100%|██████████| 984/984 [04:43<00:00,  3.48it/s]\n"
     ]
    },
    {
     "name": "stdout",
     "output_type": "stream",
     "text": [
      "Saving reconstructions of private leaderboard...\n"
     ]
    }
   ],
   "source": [
    "model.eval()\n",
    "reconstructions = defaultdict(dict)\n",
    "print(\"Reconstructing public leaderboard...\")\n",
    "with torch.no_grad():\n",
    "    for (mask, kspace, target, maximum, fnames, slices) in tqdm(dm.test_dataloader()):\n",
    "        output = model(kspace.cuda(non_blocking=True), mask.cuda(non_blocking=True))\n",
    "        output = model.image_space_crop(output)\n",
    "        for i in range(output.shape[0]):\n",
    "            reconstructions[fnames[i]][slices[i]] = output[i].cpu().numpy()\n",
    "    \n",
    "for fname in reconstructions:\n",
    "    reconstructions[fname] = np.stack([reconstructions[fname][slice] for slice in sorted(reconstructions[fname])])\n",
    "print(\"Saving reconstructions of public leaderboard...\")\n",
    "save_reconstructions(reconstructions, Path(f\"{SAVE_DIR}/public\"))\n",
    "\n",
    "\n",
    "model.eval()\n",
    "reconstructions = defaultdict(dict)\n",
    "print(\"Reconstructing private leaderboard...\")\n",
    "with torch.no_grad():\n",
    "    for (mask, kspace, target, maximum, fnames, slices) in tqdm(dm.predict_dataloader()):\n",
    "        output = model(kspace.cuda(non_blocking=True), mask.cuda(non_blocking=True))\n",
    "        output = model.image_space_crop(output)\n",
    "        for i in range(output.shape[0]):\n",
    "            reconstructions[fnames[i]][slices[i]] = output[i].cpu().numpy()\n",
    "    \n",
    "for fname in reconstructions:\n",
    "    reconstructions[fname] = np.stack([reconstructions[fname][slice] for slice in sorted(reconstructions[fname])])\n",
    "print(\"Saving reconstructions of private leaderboard...\")\n",
    "save_reconstructions(reconstructions, Path(f\"{SAVE_DIR}/private\"))\n"
   ]
  },
  {
   "cell_type": "code",
   "execution_count": 29,
   "metadata": {},
   "outputs": [
    {
     "name": "stdout",
     "output_type": "stream",
     "text": [
      "Model: aa496a972dd241689c3c0aeb071b759e\n",
      "\n",
      "Leaderboard SSIM : 0.9495\n",
      "========== Details ==========\n",
      "Leaderboard SSIM (public): 0.9575\n",
      "Leaderboard SSIM (private): 0.9415\n"
     ]
    }
   ],
   "source": [
    "!sh leaderboard_eval.sh {HASH}"
   ]
  }
 ],
 "metadata": {
  "kernelspec": {
   "display_name": "Python 3",
   "language": "python",
   "name": "python3"
  },
  "language_info": {
   "codemirror_mode": {
    "name": "ipython",
    "version": 3
   },
   "file_extension": ".py",
   "mimetype": "text/x-python",
   "name": "python",
   "nbconvert_exporter": "python",
   "pygments_lexer": "ipython3",
   "version": "3.8.10"
  }
 },
 "nbformat": 4,
 "nbformat_minor": 2
}
