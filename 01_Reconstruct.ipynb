{
 "cells": [
  {
   "cell_type": "code",
   "execution_count": 1,
   "metadata": {},
   "outputs": [],
   "source": [
    "%load_ext autoreload"
   ]
  },
  {
   "cell_type": "code",
   "execution_count": 2,
   "metadata": {},
   "outputs": [],
   "source": [
    "%autoreload 2\n",
    "\n",
    "import torch\n",
    "import numpy as np\n",
    "\n",
    "from dataset import SliceDataModule, SliceGrappaDataModule\n",
    "from common.utils import save_reconstructions\n",
    "from collections import defaultdict\n",
    "from tqdm import tqdm\n",
    "from pathlib import Path"
   ]
  },
  {
   "cell_type": "code",
   "execution_count": 3,
   "metadata": {},
   "outputs": [],
   "source": [
    "HASH = \"6e5b9a5f11fa41b8aa5f2fe165fc49a0\"\n",
    "SAVE_DIR = f\"reconstructions/{HASH}\""
   ]
  },
  {
   "cell_type": "code",
   "execution_count": 1,
   "metadata": {},
   "outputs": [
    {
     "ename": "NameError",
     "evalue": "name 'torch' is not defined",
     "output_type": "error",
     "traceback": [
      "\u001b[0;31m---------------------------------------------------------------------------\u001b[0m",
      "\u001b[0;31mNameError\u001b[0m                                 Traceback (most recent call last)",
      "Cell \u001b[0;32mIn[1], line 3\u001b[0m\n\u001b[1;32m      1\u001b[0m \u001b[38;5;28;01mfrom\u001b[39;00m \u001b[38;5;21;01mmodels\u001b[39;00m \u001b[38;5;28;01mimport\u001b[39;00m FreezedVarNetNAFNetOL \u001b[38;5;28;01mas\u001b[39;00m Model\n\u001b[0;32m----> 3\u001b[0m checkpoint \u001b[38;5;241m=\u001b[39m \u001b[43mtorch\u001b[49m\u001b[38;5;241m.\u001b[39mload(\u001b[38;5;124mf\u001b[39m\u001b[38;5;124m\"\u001b[39m\u001b[38;5;124mmlruns/0/\u001b[39m\u001b[38;5;132;01m{\u001b[39;00mHASH\u001b[38;5;132;01m}\u001b[39;00m\u001b[38;5;124m/artifacts/checkpoints/latest_checkpoint.pth\u001b[39m\u001b[38;5;124m\"\u001b[39m)\n\u001b[1;32m      4\u001b[0m model \u001b[38;5;241m=\u001b[39m Model(\u001b[38;5;241m*\u001b[39m\u001b[38;5;241m*\u001b[39mcheckpoint[\u001b[38;5;124m\"\u001b[39m\u001b[38;5;124mhyper_parameters\u001b[39m\u001b[38;5;124m\"\u001b[39m][\u001b[38;5;124m\"\u001b[39m\u001b[38;5;124minit_args\u001b[39m\u001b[38;5;124m\"\u001b[39m])\n\u001b[1;32m      5\u001b[0m model\u001b[38;5;241m.\u001b[39mload_state_dict(torch\u001b[38;5;241m.\u001b[39mload(\u001b[38;5;124mf\u001b[39m\u001b[38;5;124m\"\u001b[39m\u001b[38;5;124mmlruns/0/\u001b[39m\u001b[38;5;132;01m{\u001b[39;00mHASH\u001b[38;5;132;01m}\u001b[39;00m\u001b[38;5;124m/artifacts/checkpoints/latest_checkpoint.pth\u001b[39m\u001b[38;5;124m\"\u001b[39m)[\u001b[38;5;124m\"\u001b[39m\u001b[38;5;124mstate_dict\u001b[39m\u001b[38;5;124m\"\u001b[39m])\n",
      "\u001b[0;31mNameError\u001b[0m: name 'torch' is not defined"
     ]
    }
   ],
   "source": [
    "from models import FreezedVarNetNAFNetOL as Model\n",
    "\n",
    "checkpoint = torch.load(f\"mlruns/0/{HASH}/artifacts/checkpoints/latest_checkpoint.pth\")\n",
    "model = Model(**checkpoint[\"hyper_parameters\"][\"init_args\"])\n",
    "model.load_state_dict(torch.load(f\"mlruns/0/{HASH}/artifacts/checkpoints/latest_checkpoint.pth\")[\"state_dict\"])\n",
    "model = model.cuda()"
   ]
  },
  {
   "cell_type": "code",
   "execution_count": 5,
   "metadata": {},
   "outputs": [],
   "source": [
    "dm = SliceGrappaDataModule(root=\"/home/Data\")\n",
    "dm.setup(\"test\")\n",
    "dm.setup(\"predict\")"
   ]
  },
  {
   "cell_type": "code",
   "execution_count": 6,
   "metadata": {},
   "outputs": [
    {
     "name": "stdout",
     "output_type": "stream",
     "text": [
      "Reconstructing public leaderboard...\n"
     ]
    },
    {
     "name": "stderr",
     "output_type": "stream",
     "text": [
      "100%|██████████| 984/984 [05:31<00:00,  2.97it/s]\n"
     ]
    },
    {
     "name": "stdout",
     "output_type": "stream",
     "text": [
      "Saving reconstructions of public leaderboard...\n",
      "Reconstructing private leaderboard...\n"
     ]
    },
    {
     "name": "stderr",
     "output_type": "stream",
     "text": [
      "100%|██████████| 984/984 [05:33<00:00,  2.95it/s]\n"
     ]
    },
    {
     "name": "stdout",
     "output_type": "stream",
     "text": [
      "Saving reconstructions of private leaderboard...\n"
     ]
    }
   ],
   "source": [
    "work = {\n",
    "    \"public\": dm.test_dataloader(),\n",
    "    \"private\": dm.predict_dataloader()\n",
    "}\n",
    "\n",
    "model.eval()\n",
    "with torch.no_grad():\n",
    "    for phase, dataloader in work.items():\n",
    "        reconstructions = defaultdict(dict)\n",
    "        print(f\"Reconstructing {phase} leaderboard...\")\n",
    "        for mask, kspace, grappa, target, maximum, fnames, slices in tqdm(dataloader):\n",
    "            output = model(kspace.cuda(non_blocking=True), mask.cuda(non_blocking=True), grappa.cuda(non_blocking=True))\n",
    "            output = model.image_space_crop(output)\n",
    "            for i in range(output.shape[0]):\n",
    "                reconstructions[fnames[i]][slices[i]] = output[i].cpu().numpy()\n",
    "\n",
    "        for fname in reconstructions:\n",
    "            reconstructions[fname] = np.stack(\n",
    "                [reconstructions[fname][slice] for slice in sorted(reconstructions[fname])]\n",
    "            )\n",
    "        print(f\"Saving reconstructions of {phase} leaderboard...\")\n",
    "        save_reconstructions(reconstructions, Path(f\"{SAVE_DIR}/{phase}\"))"
   ]
  },
  {
   "cell_type": "code",
   "execution_count": 7,
   "metadata": {},
   "outputs": [
    {
     "name": "stdout",
     "output_type": "stream",
     "text": [
      "Model: 6e5b9a5f11fa41b8aa5f2fe165fc49a0\n",
      "\n",
      "Leaderboard SSIM : 0.9725\n",
      "========== Details ==========\n",
      "Leaderboard SSIM (public): 0.9823\n",
      "Leaderboard SSIM (private): 0.9628\n"
     ]
    }
   ],
   "source": [
    "!sh leaderboard_eval.sh {HASH}"
   ]
  },
  {
   "cell_type": "code",
   "execution_count": null,
   "metadata": {},
   "outputs": [],
   "source": []
  }
 ],
 "metadata": {
  "kernelspec": {
   "display_name": "Python 3",
   "language": "python",
   "name": "python3"
  },
  "language_info": {
   "codemirror_mode": {
    "name": "ipython",
    "version": 3
   },
   "file_extension": ".py",
   "mimetype": "text/x-python",
   "name": "python",
   "nbconvert_exporter": "python",
   "pygments_lexer": "ipython3",
   "version": "3.8.10"
  }
 },
 "nbformat": 4,
 "nbformat_minor": 2
}
