{
 "cells": [
  {
   "cell_type": "code",
   "execution_count": 1,
   "metadata": {},
   "outputs": [],
   "source": [
    "%load_ext autoreload\n",
    "%autoreload 2\n",
    "\n",
    "import torch\n",
    "import numpy as np\n",
    "\n",
    "from dataset import SliceDataModule, SliceGrappaDataModule\n",
    "from common.utils import save_reconstructions\n",
    "from collections import defaultdict\n",
    "from tqdm import tqdm\n",
    "from pathlib import Path"
   ]
  },
  {
   "cell_type": "code",
   "execution_count": 2,
   "metadata": {},
   "outputs": [],
   "source": [
    "HASH = \"92e0a8998bc24c02a61d97cb97109234\"\n",
    "checkpoint_path = f\"checkpoints/{HASH}/\"\n",
    "\n",
    "casecades = torch.load(checkpoint_path+\"cascades.pth\", map_location=\"cuda:0\")\n",
    "nafnet = torch.load(checkpoint_path+\"nafnet.pth\", map_location=\"cuda:0\")\n",
    "postprocess = torch.load(checkpoint_path+\"postprocess.pth\", map_location=\"cuda:0\")\n",
    "sens_net = torch.load(checkpoint_path+\"sens_net.pth\", map_location=\"cuda:0\")\n"
   ]
  },
  {
   "cell_type": "code",
   "execution_count": 3,
   "metadata": {},
   "outputs": [],
   "source": [
    "dm = SliceGrappaDataModule(root=\"/home/Data\")\n",
    "dm.setup(\"test\")\n",
    "dm.setup(\"predict\")"
   ]
  },
  {
   "cell_type": "code",
   "execution_count": 4,
   "metadata": {},
   "outputs": [],
   "source": [
    "test_loader = dm.test_dataloader()\n",
    "predict_loader = dm.predict_dataloader()"
   ]
  },
  {
   "cell_type": "code",
   "execution_count": null,
   "metadata": {},
   "outputs": [],
   "source": []
  }
 ],
 "metadata": {
  "kernelspec": {
   "display_name": "base",
   "language": "python",
   "name": "python3"
  },
  "language_info": {
   "codemirror_mode": {
    "name": "ipython",
    "version": 3
   },
   "file_extension": ".py",
   "mimetype": "text/x-python",
   "name": "python",
   "nbconvert_exporter": "python",
   "pygments_lexer": "ipython3",
   "version": "3.10.14"
  }
 },
 "nbformat": 4,
 "nbformat_minor": 2
}
